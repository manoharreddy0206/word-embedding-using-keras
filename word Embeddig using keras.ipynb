{
 "cells": [
  {
   "cell_type": "code",
   "execution_count": 1,
   "metadata": {},
   "outputs": [],
   "source": [
    "from tensorflow.keras.preprocessing.text import one_hot"
   ]
  },
  {
   "cell_type": "code",
   "execution_count": 3,
   "metadata": {},
   "outputs": [],
   "source": [
    "sent=['i am happy',\n",
    "     'i am confident',\n",
    "     'i am focus on myself',\n",
    "     'i am believe in myself']"
   ]
  },
  {
   "cell_type": "markdown",
   "metadata": {},
   "source": [
    "### one hot representation"
   ]
  },
  {
   "cell_type": "code",
   "execution_count": 4,
   "metadata": {},
   "outputs": [
    {
     "name": "stdout",
     "output_type": "stream",
     "text": [
      "[[251, 224, 9], [251, 224, 603], [251, 224, 975, 667, 410], [251, 224, 777, 178, 410]]\n"
     ]
    }
   ],
   "source": [
    "vocal_size=1000\n",
    "one_hot_repre=[one_hot(words,vocal_size) for words in sent]\n",
    "print(one_hot_repre)"
   ]
  },
  {
   "cell_type": "markdown",
   "metadata": {},
   "source": [
    "## word Embedding Representation"
   ]
  },
  {
   "cell_type": "code",
   "execution_count": 5,
   "metadata": {},
   "outputs": [],
   "source": [
    "from tensorflow.keras.layers import Embedding\n",
    "from tensorflow.keras.preprocessing.sequence import pad_sequences\n",
    "from tensorflow.keras.models import Sequential"
   ]
  },
  {
   "cell_type": "code",
   "execution_count": 6,
   "metadata": {},
   "outputs": [
    {
     "name": "stdout",
     "output_type": "stream",
     "text": [
      "[[  0   0   0 251 224   9]\n",
      " [  0   0   0 251 224 603]\n",
      " [  0 251 224 975 667 410]\n",
      " [  0 251 224 777 178 410]]\n"
     ]
    }
   ],
   "source": [
    "\n",
    "p_sequences=pad_sequences(one_hot_repre,padding='pre',maxlen=6)\n",
    "print(p_sequences)"
   ]
  },
  {
   "cell_type": "code",
   "execution_count": 7,
   "metadata": {},
   "outputs": [],
   "source": [
    "model=Sequential()\n",
    "model.add(Embedding(vocal_size,10,input_length=6))\n",
    "model.compile('adam','mse')"
   ]
  },
  {
   "cell_type": "code",
   "execution_count": 8,
   "metadata": {},
   "outputs": [
    {
     "name": "stdout",
     "output_type": "stream",
     "text": [
      "WARNING:tensorflow:Model was constructed with shape (None, 6) for input KerasTensor(type_spec=TensorSpec(shape=(None, 6), dtype=tf.float32, name='embedding_input'), name='embedding_input', description=\"created by layer 'embedding_input'\"), but it was called on an input with incompatible shape (None, 1).\n",
      "[[[-0.04229734 -0.04079316 -0.04768071  0.04752559  0.03547212\n",
      "   -0.03459098 -0.00166267 -0.01662057 -0.04523767  0.04736731]]\n",
      "\n",
      " [[-0.04229734 -0.04079316 -0.04768071  0.04752559  0.03547212\n",
      "   -0.03459098 -0.00166267 -0.01662057 -0.04523767  0.04736731]]\n",
      "\n",
      " [[-0.04229734 -0.04079316 -0.04768071  0.04752559  0.03547212\n",
      "   -0.03459098 -0.00166267 -0.01662057 -0.04523767  0.04736731]]\n",
      "\n",
      " [[-0.01188492 -0.02110949  0.04616329 -0.01040405  0.01755314\n",
      "    0.03066281  0.0400327  -0.01595316  0.02746015  0.02938743]]\n",
      "\n",
      " [[-0.02752816 -0.02556603 -0.01231203  0.01896564 -0.00807458\n",
      "   -0.02955273 -0.01370639  0.0163877   0.02254326  0.00746739]]\n",
      "\n",
      " [[-0.01921823  0.04848008 -0.02018702  0.04628657  0.01734271\n",
      "    0.03665092  0.04419165 -0.0362515  -0.0151741  -0.00190008]]]\n"
     ]
    }
   ],
   "source": [
    "print(model.predict(p_sequences[0]))"
   ]
  },
  {
   "cell_type": "code",
   "execution_count": null,
   "metadata": {},
   "outputs": [],
   "source": []
  }
 ],
 "metadata": {
  "kernelspec": {
   "display_name": "Python 3",
   "language": "python",
   "name": "python3"
  },
  "language_info": {
   "codemirror_mode": {
    "name": "ipython",
    "version": 3
   },
   "file_extension": ".py",
   "mimetype": "text/x-python",
   "name": "python",
   "nbconvert_exporter": "python",
   "pygments_lexer": "ipython3",
   "version": "3.8.5"
  }
 },
 "nbformat": 4,
 "nbformat_minor": 4
}
